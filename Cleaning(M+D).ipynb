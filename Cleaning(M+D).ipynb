{
 "cells": [
  {
   "cell_type": "code",
   "execution_count": 1,
   "id": "7610fac6-1d80-4cbe-a460-9406f27cd5a2",
   "metadata": {},
   "outputs": [],
   "source": [
    "import pandas as pd"
   ]
  },
  {
   "cell_type": "code",
   "execution_count": 2,
   "id": "9978b78a-b877-427c-bf20-6f53c6b86fad",
   "metadata": {},
   "outputs": [
    {
     "name": "stderr",
     "output_type": "stream",
     "text": [
      "C:\\Users\\vidhi\\AppData\\Local\\Temp\\ipykernel_12676\\4060808392.py:1: DtypeWarning: Columns (13,15,17,18,19,20,21,22,23,24,26,28,49,50,51,52,53,54,55,56) have mixed types. Specify dtype option on import or set low_memory=False.\n",
      "  df=pd.read_csv(\"sample-data.csv\")\n"
     ]
    },
    {
     "data": {
      "text/html": [
       "<div>\n",
       "<style scoped>\n",
       "    .dataframe tbody tr th:only-of-type {\n",
       "        vertical-align: middle;\n",
       "    }\n",
       "\n",
       "    .dataframe tbody tr th {\n",
       "        vertical-align: top;\n",
       "    }\n",
       "\n",
       "    .dataframe thead th {\n",
       "        text-align: right;\n",
       "    }\n",
       "</style>\n",
       "<table border=\"1\" class=\"dataframe\">\n",
       "  <thead>\n",
       "    <tr style=\"text-align: right;\">\n",
       "      <th></th>\n",
       "      <th>date</th>\n",
       "      <th>district</th>\n",
       "      <th>city</th>\n",
       "      <th>facilityid</th>\n",
       "      <th>doctorname</th>\n",
       "      <th>medongoid</th>\n",
       "      <th>appointmenttime</th>\n",
       "      <th>gender</th>\n",
       "      <th>age</th>\n",
       "      <th>diagnosis</th>\n",
       "      <th>...</th>\n",
       "      <th>duration_11</th>\n",
       "      <th>drug_12</th>\n",
       "      <th>dosage_12</th>\n",
       "      <th>duration_12</th>\n",
       "      <th>drug_13</th>\n",
       "      <th>dosage_13</th>\n",
       "      <th>duration_13</th>\n",
       "      <th>drug_14</th>\n",
       "      <th>dosage_14</th>\n",
       "      <th>duration_14</th>\n",
       "    </tr>\n",
       "  </thead>\n",
       "  <tbody>\n",
       "    <tr>\n",
       "      <th>0</th>\n",
       "      <td>2017-06-10</td>\n",
       "      <td>West</td>\n",
       "      <td>Uttam Nagar</td>\n",
       "      <td>320721</td>\n",
       "      <td>NISHANT</td>\n",
       "      <td>1.162021e+09</td>\n",
       "      <td>13:07:17</td>\n",
       "      <td>0</td>\n",
       "      <td>30.0</td>\n",
       "      <td>['body pain']</td>\n",
       "      <td>...</td>\n",
       "      <td>NaN</td>\n",
       "      <td>NaN</td>\n",
       "      <td>NaN</td>\n",
       "      <td>NaN</td>\n",
       "      <td>NaN</td>\n",
       "      <td>NaN</td>\n",
       "      <td>NaN</td>\n",
       "      <td>NaN</td>\n",
       "      <td>NaN</td>\n",
       "      <td>NaN</td>\n",
       "    </tr>\n",
       "    <tr>\n",
       "      <th>1</th>\n",
       "      <td>2018-04-26</td>\n",
       "      <td>West</td>\n",
       "      <td>Vikas Puri</td>\n",
       "      <td>310710</td>\n",
       "      <td>Dr. Ravikant</td>\n",
       "      <td>1.116585e+09</td>\n",
       "      <td>12:26:25</td>\n",
       "      <td>1</td>\n",
       "      <td>31.0</td>\n",
       "      <td>['acute respiratory tract infection']</td>\n",
       "      <td>...</td>\n",
       "      <td>NaN</td>\n",
       "      <td>NaN</td>\n",
       "      <td>NaN</td>\n",
       "      <td>NaN</td>\n",
       "      <td>NaN</td>\n",
       "      <td>NaN</td>\n",
       "      <td>NaN</td>\n",
       "      <td>NaN</td>\n",
       "      <td>NaN</td>\n",
       "      <td>NaN</td>\n",
       "    </tr>\n",
       "    <tr>\n",
       "      <th>2</th>\n",
       "      <td>2019-01-04</td>\n",
       "      <td>West</td>\n",
       "      <td>Vikas Puri</td>\n",
       "      <td>310710</td>\n",
       "      <td>Dr. Ravikant</td>\n",
       "      <td>1.367039e+09</td>\n",
       "      <td>10:06:51</td>\n",
       "      <td>1</td>\n",
       "      <td>28.0</td>\n",
       "      <td>['influenza']</td>\n",
       "      <td>...</td>\n",
       "      <td>NaN</td>\n",
       "      <td>NaN</td>\n",
       "      <td>NaN</td>\n",
       "      <td>NaN</td>\n",
       "      <td>NaN</td>\n",
       "      <td>NaN</td>\n",
       "      <td>NaN</td>\n",
       "      <td>NaN</td>\n",
       "      <td>NaN</td>\n",
       "      <td>NaN</td>\n",
       "    </tr>\n",
       "    <tr>\n",
       "      <th>3</th>\n",
       "      <td>2018-12-03</td>\n",
       "      <td>West</td>\n",
       "      <td>Vikas Puri</td>\n",
       "      <td>310724</td>\n",
       "      <td>Shailender</td>\n",
       "      <td>1.120420e+09</td>\n",
       "      <td>08:47:58</td>\n",
       "      <td>1</td>\n",
       "      <td>35.0</td>\n",
       "      <td>['dermatitis+eczema', 'gastroenteritis']</td>\n",
       "      <td>...</td>\n",
       "      <td>NaN</td>\n",
       "      <td>NaN</td>\n",
       "      <td>NaN</td>\n",
       "      <td>NaN</td>\n",
       "      <td>NaN</td>\n",
       "      <td>NaN</td>\n",
       "      <td>NaN</td>\n",
       "      <td>NaN</td>\n",
       "      <td>NaN</td>\n",
       "      <td>NaN</td>\n",
       "    </tr>\n",
       "    <tr>\n",
       "      <th>4</th>\n",
       "      <td>2019-06-29</td>\n",
       "      <td>West</td>\n",
       "      <td>Uttam Nagar</td>\n",
       "      <td>320712</td>\n",
       "      <td>Dr. R.C.Khanna</td>\n",
       "      <td>1.367939e+09</td>\n",
       "      <td>11:41:40</td>\n",
       "      <td>1</td>\n",
       "      <td>42.0</td>\n",
       "      <td>['back pain']</td>\n",
       "      <td>...</td>\n",
       "      <td>NaN</td>\n",
       "      <td>NaN</td>\n",
       "      <td>NaN</td>\n",
       "      <td>NaN</td>\n",
       "      <td>NaN</td>\n",
       "      <td>NaN</td>\n",
       "      <td>NaN</td>\n",
       "      <td>NaN</td>\n",
       "      <td>NaN</td>\n",
       "      <td>NaN</td>\n",
       "    </tr>\n",
       "  </tbody>\n",
       "</table>\n",
       "<p>5 rows × 72 columns</p>\n",
       "</div>"
      ],
      "text/plain": [
       "         date district         city  facilityid      doctorname     medongoid  \\\n",
       "0  2017-06-10     West  Uttam Nagar      320721         NISHANT  1.162021e+09   \n",
       "1  2018-04-26     West   Vikas Puri      310710    Dr. Ravikant  1.116585e+09   \n",
       "2  2019-01-04     West   Vikas Puri      310710    Dr. Ravikant  1.367039e+09   \n",
       "3  2018-12-03     West   Vikas Puri      310724      Shailender  1.120420e+09   \n",
       "4  2019-06-29     West  Uttam Nagar      320712  Dr. R.C.Khanna  1.367939e+09   \n",
       "\n",
       "  appointmenttime  gender   age                                 diagnosis  \\\n",
       "0        13:07:17       0  30.0                             ['body pain']   \n",
       "1        12:26:25       1  31.0     ['acute respiratory tract infection']   \n",
       "2        10:06:51       1  28.0                             ['influenza']   \n",
       "3        08:47:58       1  35.0  ['dermatitis+eczema', 'gastroenteritis']   \n",
       "4        11:41:40       1  42.0                             ['back pain']   \n",
       "\n",
       "   ... duration_11 drug_12 dosage_12 duration_12 drug_13 dosage_13  \\\n",
       "0  ...         NaN     NaN       NaN         NaN     NaN       NaN   \n",
       "1  ...         NaN     NaN       NaN         NaN     NaN       NaN   \n",
       "2  ...         NaN     NaN       NaN         NaN     NaN       NaN   \n",
       "3  ...         NaN     NaN       NaN         NaN     NaN       NaN   \n",
       "4  ...         NaN     NaN       NaN         NaN     NaN       NaN   \n",
       "\n",
       "  duration_13 drug_14 dosage_14 duration_14  \n",
       "0         NaN     NaN       NaN         NaN  \n",
       "1         NaN     NaN       NaN         NaN  \n",
       "2         NaN     NaN       NaN         NaN  \n",
       "3         NaN     NaN       NaN         NaN  \n",
       "4         NaN     NaN       NaN         NaN  \n",
       "\n",
       "[5 rows x 72 columns]"
      ]
     },
     "execution_count": 2,
     "metadata": {},
     "output_type": "execute_result"
    }
   ],
   "source": [
    "df=pd.read_csv(\"sample-data\\.csv\")\n",
    "df.head()"
   ]
  },
  {
   "cell_type": "code",
   "execution_count": 3,
   "id": "7c1c020c-7202-4c03-b2cf-0b2d30be3367",
   "metadata": {},
   "outputs": [
    {
     "data": {
      "text/html": [
       "<div>\n",
       "<style scoped>\n",
       "    .dataframe tbody tr th:only-of-type {\n",
       "        vertical-align: middle;\n",
       "    }\n",
       "\n",
       "    .dataframe tbody tr th {\n",
       "        vertical-align: top;\n",
       "    }\n",
       "\n",
       "    .dataframe thead th {\n",
       "        text-align: right;\n",
       "    }\n",
       "</style>\n",
       "<table border=\"1\" class=\"dataframe\">\n",
       "  <thead>\n",
       "    <tr style=\"text-align: right;\">\n",
       "      <th></th>\n",
       "      <th>medongoid</th>\n",
       "      <th>date</th>\n",
       "      <th>city</th>\n",
       "      <th>gender</th>\n",
       "      <th>age</th>\n",
       "      <th>diagnosis</th>\n",
       "      <th>drug_1</th>\n",
       "      <th>drug_2</th>\n",
       "      <th>drug_3</th>\n",
       "      <th>drug_4</th>\n",
       "      <th>drug_5</th>\n",
       "      <th>drug_6</th>\n",
       "      <th>drug_7</th>\n",
       "      <th>drug_8</th>\n",
       "      <th>drug_9</th>\n",
       "      <th>drug_10</th>\n",
       "      <th>drug_11</th>\n",
       "      <th>drug_12</th>\n",
       "      <th>drug_13</th>\n",
       "      <th>drug_14</th>\n",
       "    </tr>\n",
       "  </thead>\n",
       "  <tbody>\n",
       "    <tr>\n",
       "      <th>0</th>\n",
       "      <td>1.162021e+09</td>\n",
       "      <td>2017-06-10</td>\n",
       "      <td>Uttam Nagar</td>\n",
       "      <td>0</td>\n",
       "      <td>30.0</td>\n",
       "      <td>['body pain']</td>\n",
       "      <td>Paracetamol 500mg tab</td>\n",
       "      <td>Diclofenac sod 50mg  tab</td>\n",
       "      <td>B-6 tab</td>\n",
       "      <td>Omeprazole 20mg cap</td>\n",
       "      <td>B-6 tab</td>\n",
       "      <td>NaN</td>\n",
       "      <td>NaN</td>\n",
       "      <td>NaN</td>\n",
       "      <td>NaN</td>\n",
       "      <td>NaN</td>\n",
       "      <td>NaN</td>\n",
       "      <td>NaN</td>\n",
       "      <td>NaN</td>\n",
       "      <td>NaN</td>\n",
       "    </tr>\n",
       "    <tr>\n",
       "      <th>1</th>\n",
       "      <td>1.116585e+09</td>\n",
       "      <td>2018-04-26</td>\n",
       "      <td>Vikas Puri</td>\n",
       "      <td>1</td>\n",
       "      <td>31.0</td>\n",
       "      <td>['acute respiratory tract infection']</td>\n",
       "      <td>Amoxicillin 250mg cap</td>\n",
       "      <td>Paracetamol 500mg tab</td>\n",
       "      <td>NaN</td>\n",
       "      <td>NaN</td>\n",
       "      <td>NaN</td>\n",
       "      <td>NaN</td>\n",
       "      <td>NaN</td>\n",
       "      <td>NaN</td>\n",
       "      <td>NaN</td>\n",
       "      <td>NaN</td>\n",
       "      <td>NaN</td>\n",
       "      <td>NaN</td>\n",
       "      <td>NaN</td>\n",
       "      <td>NaN</td>\n",
       "    </tr>\n",
       "    <tr>\n",
       "      <th>2</th>\n",
       "      <td>1.367039e+09</td>\n",
       "      <td>2019-01-04</td>\n",
       "      <td>Vikas Puri</td>\n",
       "      <td>1</td>\n",
       "      <td>28.0</td>\n",
       "      <td>['influenza']</td>\n",
       "      <td>Paracetamol 500mg tab</td>\n",
       "      <td>NaN</td>\n",
       "      <td>NaN</td>\n",
       "      <td>NaN</td>\n",
       "      <td>NaN</td>\n",
       "      <td>NaN</td>\n",
       "      <td>NaN</td>\n",
       "      <td>NaN</td>\n",
       "      <td>NaN</td>\n",
       "      <td>NaN</td>\n",
       "      <td>NaN</td>\n",
       "      <td>NaN</td>\n",
       "      <td>NaN</td>\n",
       "      <td>NaN</td>\n",
       "    </tr>\n",
       "    <tr>\n",
       "      <th>3</th>\n",
       "      <td>1.120420e+09</td>\n",
       "      <td>2018-12-03</td>\n",
       "      <td>Vikas Puri</td>\n",
       "      <td>1</td>\n",
       "      <td>35.0</td>\n",
       "      <td>['dermatitis+eczema', 'gastroenteritis']</td>\n",
       "      <td>Framycetin skin oint</td>\n",
       "      <td>Omeprazole 20mg cap</td>\n",
       "      <td>Dicyclomine 10mg tab</td>\n",
       "      <td>Paracetamol 500mg tab</td>\n",
       "      <td>NaN</td>\n",
       "      <td>NaN</td>\n",
       "      <td>NaN</td>\n",
       "      <td>NaN</td>\n",
       "      <td>NaN</td>\n",
       "      <td>NaN</td>\n",
       "      <td>NaN</td>\n",
       "      <td>NaN</td>\n",
       "      <td>NaN</td>\n",
       "      <td>NaN</td>\n",
       "    </tr>\n",
       "    <tr>\n",
       "      <th>4</th>\n",
       "      <td>1.367939e+09</td>\n",
       "      <td>2019-06-29</td>\n",
       "      <td>Uttam Nagar</td>\n",
       "      <td>1</td>\n",
       "      <td>42.0</td>\n",
       "      <td>['back pain']</td>\n",
       "      <td>Diclofenac sodium 75mg tab</td>\n",
       "      <td>Antacid tab</td>\n",
       "      <td>NaN</td>\n",
       "      <td>NaN</td>\n",
       "      <td>NaN</td>\n",
       "      <td>NaN</td>\n",
       "      <td>NaN</td>\n",
       "      <td>NaN</td>\n",
       "      <td>NaN</td>\n",
       "      <td>NaN</td>\n",
       "      <td>NaN</td>\n",
       "      <td>NaN</td>\n",
       "      <td>NaN</td>\n",
       "      <td>NaN</td>\n",
       "    </tr>\n",
       "  </tbody>\n",
       "</table>\n",
       "</div>"
      ],
      "text/plain": [
       "      medongoid        date         city  gender   age  \\\n",
       "0  1.162021e+09  2017-06-10  Uttam Nagar       0  30.0   \n",
       "1  1.116585e+09  2018-04-26   Vikas Puri       1  31.0   \n",
       "2  1.367039e+09  2019-01-04   Vikas Puri       1  28.0   \n",
       "3  1.120420e+09  2018-12-03   Vikas Puri       1  35.0   \n",
       "4  1.367939e+09  2019-06-29  Uttam Nagar       1  42.0   \n",
       "\n",
       "                                  diagnosis                      drug_1  \\\n",
       "0                             ['body pain']       Paracetamol 500mg tab   \n",
       "1     ['acute respiratory tract infection']       Amoxicillin 250mg cap   \n",
       "2                             ['influenza']       Paracetamol 500mg tab   \n",
       "3  ['dermatitis+eczema', 'gastroenteritis']        Framycetin skin oint   \n",
       "4                             ['back pain']  Diclofenac sodium 75mg tab   \n",
       "\n",
       "                     drug_2                drug_3                 drug_4  \\\n",
       "0  Diclofenac sod 50mg  tab               B-6 tab    Omeprazole 20mg cap   \n",
       "1     Paracetamol 500mg tab                   NaN                    NaN   \n",
       "2                       NaN                   NaN                    NaN   \n",
       "3       Omeprazole 20mg cap  Dicyclomine 10mg tab  Paracetamol 500mg tab   \n",
       "4               Antacid tab                   NaN                    NaN   \n",
       "\n",
       "    drug_5 drug_6 drug_7 drug_8 drug_9  drug_10  drug_11  drug_12  drug_13  \\\n",
       "0  B-6 tab    NaN    NaN    NaN    NaN      NaN      NaN      NaN      NaN   \n",
       "1      NaN    NaN    NaN    NaN    NaN      NaN      NaN      NaN      NaN   \n",
       "2      NaN    NaN    NaN    NaN    NaN      NaN      NaN      NaN      NaN   \n",
       "3      NaN    NaN    NaN    NaN    NaN      NaN      NaN      NaN      NaN   \n",
       "4      NaN    NaN    NaN    NaN    NaN      NaN      NaN      NaN      NaN   \n",
       "\n",
       "   drug_14  \n",
       "0      NaN  \n",
       "1      NaN  \n",
       "2      NaN  \n",
       "3      NaN  \n",
       "4      NaN  "
      ]
     },
     "execution_count": 3,
     "metadata": {},
     "output_type": "execute_result"
    }
   ],
   "source": [
    "df = df[['medongoid','date','city','gender','age','diagnosis','drug_1', 'drug_2', 'drug_3', 'drug_4', 'drug_5', 'drug_6', 'drug_7', 'drug_8', 'drug_9', 'drug_10', 'drug_11', 'drug_12', 'drug_13', 'drug_14']]\n",
    "df.head()"
   ]
  },
  {
   "cell_type": "code",
   "execution_count": 37,
   "id": "e72acdc8-2e85-4460-ae88-6951f74a2922",
   "metadata": {},
   "outputs": [
    {
     "data": {
      "text/plain": [
       "463304"
      ]
     },
     "execution_count": 37,
     "metadata": {},
     "output_type": "execute_result"
    }
   ],
   "source": [
    "df_unique = selected_columns[selected_columns['diagnosis'].apply(lambda x: 'unknown' in x)]\n",
    "len(df_unique)"
   ]
  },
  {
   "cell_type": "code",
   "execution_count": 38,
   "id": "4264382e-c2c3-4049-b32e-beaaeec2261f",
   "metadata": {},
   "outputs": [
    {
     "data": {
      "text/html": [
       "<div>\n",
       "<style scoped>\n",
       "    .dataframe tbody tr th:only-of-type {\n",
       "        vertical-align: middle;\n",
       "    }\n",
       "\n",
       "    .dataframe tbody tr th {\n",
       "        vertical-align: top;\n",
       "    }\n",
       "\n",
       "    .dataframe thead th {\n",
       "        text-align: right;\n",
       "    }\n",
       "</style>\n",
       "<table border=\"1\" class=\"dataframe\">\n",
       "  <thead>\n",
       "    <tr style=\"text-align: right;\">\n",
       "      <th></th>\n",
       "      <th>medongoid</th>\n",
       "      <th>date</th>\n",
       "      <th>city</th>\n",
       "      <th>gender</th>\n",
       "      <th>age</th>\n",
       "      <th>diagnosis</th>\n",
       "      <th>drug_1</th>\n",
       "      <th>drug_2</th>\n",
       "      <th>drug_3</th>\n",
       "      <th>drug_4</th>\n",
       "      <th>drug_5</th>\n",
       "      <th>drug_6</th>\n",
       "      <th>drug_7</th>\n",
       "      <th>drug_8</th>\n",
       "      <th>drug_9</th>\n",
       "      <th>drug_10</th>\n",
       "      <th>drug_11</th>\n",
       "      <th>drug_12</th>\n",
       "      <th>drug_13</th>\n",
       "      <th>drug_14</th>\n",
       "    </tr>\n",
       "  </thead>\n",
       "  <tbody>\n",
       "    <tr>\n",
       "      <th>11</th>\n",
       "      <td>1.365336e+09</td>\n",
       "      <td>2017-03-30</td>\n",
       "      <td>Nangloi</td>\n",
       "      <td>1</td>\n",
       "      <td>11.0</td>\n",
       "      <td>['unknown']</td>\n",
       "      <td>Unknown</td>\n",
       "      <td>NaN</td>\n",
       "      <td>NaN</td>\n",
       "      <td>NaN</td>\n",
       "      <td>NaN</td>\n",
       "      <td>NaN</td>\n",
       "      <td>NaN</td>\n",
       "      <td>NaN</td>\n",
       "      <td>NaN</td>\n",
       "      <td>NaN</td>\n",
       "      <td>NaN</td>\n",
       "      <td>NaN</td>\n",
       "      <td>NaN</td>\n",
       "      <td>NaN</td>\n",
       "    </tr>\n",
       "    <tr>\n",
       "      <th>21</th>\n",
       "      <td>1.090652e+09</td>\n",
       "      <td>2017-03-31</td>\n",
       "      <td>Vikas Puri</td>\n",
       "      <td>0</td>\n",
       "      <td>42.0</td>\n",
       "      <td>['unknown']</td>\n",
       "      <td>Unknown</td>\n",
       "      <td>NaN</td>\n",
       "      <td>NaN</td>\n",
       "      <td>NaN</td>\n",
       "      <td>NaN</td>\n",
       "      <td>NaN</td>\n",
       "      <td>NaN</td>\n",
       "      <td>NaN</td>\n",
       "      <td>NaN</td>\n",
       "      <td>NaN</td>\n",
       "      <td>NaN</td>\n",
       "      <td>NaN</td>\n",
       "      <td>NaN</td>\n",
       "      <td>NaN</td>\n",
       "    </tr>\n",
       "    <tr>\n",
       "      <th>23</th>\n",
       "      <td>1.236494e+09</td>\n",
       "      <td>2016-09-07</td>\n",
       "      <td>Uttam Nagar</td>\n",
       "      <td>0</td>\n",
       "      <td>17.0</td>\n",
       "      <td>['unknown']</td>\n",
       "      <td>Paracetamol 500mg tab</td>\n",
       "      <td>Levocetirizine 5mg tab</td>\n",
       "      <td>ORS pkt</td>\n",
       "      <td>Ranitidine 150mg tab</td>\n",
       "      <td>NaN</td>\n",
       "      <td>NaN</td>\n",
       "      <td>NaN</td>\n",
       "      <td>NaN</td>\n",
       "      <td>NaN</td>\n",
       "      <td>NaN</td>\n",
       "      <td>NaN</td>\n",
       "      <td>NaN</td>\n",
       "      <td>NaN</td>\n",
       "      <td>NaN</td>\n",
       "    </tr>\n",
       "    <tr>\n",
       "      <th>26</th>\n",
       "      <td>1.204437e+09</td>\n",
       "      <td>2016-07-22</td>\n",
       "      <td>MUNDKA</td>\n",
       "      <td>0</td>\n",
       "      <td>23.0</td>\n",
       "      <td>['unknown']</td>\n",
       "      <td>Unknown</td>\n",
       "      <td>NaN</td>\n",
       "      <td>NaN</td>\n",
       "      <td>NaN</td>\n",
       "      <td>NaN</td>\n",
       "      <td>NaN</td>\n",
       "      <td>NaN</td>\n",
       "      <td>NaN</td>\n",
       "      <td>NaN</td>\n",
       "      <td>NaN</td>\n",
       "      <td>NaN</td>\n",
       "      <td>NaN</td>\n",
       "      <td>NaN</td>\n",
       "      <td>NaN</td>\n",
       "    </tr>\n",
       "    <tr>\n",
       "      <th>28</th>\n",
       "      <td>1.271308e+09</td>\n",
       "      <td>2017-01-10</td>\n",
       "      <td>Nangloi</td>\n",
       "      <td>0</td>\n",
       "      <td>28.0</td>\n",
       "      <td>['unknown']</td>\n",
       "      <td>Unknown</td>\n",
       "      <td>NaN</td>\n",
       "      <td>NaN</td>\n",
       "      <td>NaN</td>\n",
       "      <td>NaN</td>\n",
       "      <td>NaN</td>\n",
       "      <td>NaN</td>\n",
       "      <td>NaN</td>\n",
       "      <td>NaN</td>\n",
       "      <td>NaN</td>\n",
       "      <td>NaN</td>\n",
       "      <td>NaN</td>\n",
       "      <td>NaN</td>\n",
       "      <td>NaN</td>\n",
       "    </tr>\n",
       "  </tbody>\n",
       "</table>\n",
       "</div>"
      ],
      "text/plain": [
       "       medongoid        date         city  gender   age    diagnosis  \\\n",
       "11  1.365336e+09  2017-03-30      Nangloi       1  11.0  ['unknown']   \n",
       "21  1.090652e+09  2017-03-31   Vikas Puri       0  42.0  ['unknown']   \n",
       "23  1.236494e+09  2016-09-07  Uttam Nagar       0  17.0  ['unknown']   \n",
       "26  1.204437e+09  2016-07-22       MUNDKA       0  23.0  ['unknown']   \n",
       "28  1.271308e+09  2017-01-10      Nangloi       0  28.0  ['unknown']   \n",
       "\n",
       "                   drug_1                  drug_2   drug_3  \\\n",
       "11                Unknown                     NaN      NaN   \n",
       "21                Unknown                     NaN      NaN   \n",
       "23  Paracetamol 500mg tab  Levocetirizine 5mg tab  ORS pkt   \n",
       "26                Unknown                     NaN      NaN   \n",
       "28                Unknown                     NaN      NaN   \n",
       "\n",
       "                  drug_4 drug_5 drug_6 drug_7 drug_8 drug_9  drug_10  drug_11  \\\n",
       "11                   NaN    NaN    NaN    NaN    NaN    NaN      NaN      NaN   \n",
       "21                   NaN    NaN    NaN    NaN    NaN    NaN      NaN      NaN   \n",
       "23  Ranitidine 150mg tab    NaN    NaN    NaN    NaN    NaN      NaN      NaN   \n",
       "26                   NaN    NaN    NaN    NaN    NaN    NaN      NaN      NaN   \n",
       "28                   NaN    NaN    NaN    NaN    NaN    NaN      NaN      NaN   \n",
       "\n",
       "    drug_12  drug_13  drug_14  \n",
       "11      NaN      NaN      NaN  \n",
       "21      NaN      NaN      NaN  \n",
       "23      NaN      NaN      NaN  \n",
       "26      NaN      NaN      NaN  \n",
       "28      NaN      NaN      NaN  "
      ]
     },
     "execution_count": 38,
     "metadata": {},
     "output_type": "execute_result"
    }
   ],
   "source": [
    "df_cleaned = df_unique[df_unique['drug_1'].apply(lambda x: 'Unknown' in x)]\n",
    "df_unique.head()"
   ]
  },
  {
   "cell_type": "code",
   "execution_count": 4,
   "id": "21b85fcb-36ce-44a8-8f26-36cc58aefb63",
   "metadata": {},
   "outputs": [],
   "source": [
    "df_unique = df[((df['diagnosis'].str.contains('unknown', case=False, na=False)) | \n",
    "                   (df['drug_1'].str.contains('Unknown', case=False, na=False)))]"
   ]
  },
  {
   "cell_type": "code",
   "execution_count": 39,
   "id": "4e5f33b5-9472-44b5-8b9a-283fe8719b47",
   "metadata": {},
   "outputs": [
    {
     "data": {
      "text/plain": [
       "331835"
      ]
     },
     "execution_count": 39,
     "metadata": {},
     "output_type": "execute_result"
    }
   ],
   "source": [
    "len(df_cleaned)"
   ]
  },
  {
   "cell_type": "code",
   "execution_count": 48,
   "id": "53cdb6bf-66d0-4b2a-ba2f-8536736cd595",
   "metadata": {},
   "outputs": [
    {
     "data": {
      "text/plain": [
       "463479"
      ]
     },
     "execution_count": 48,
     "metadata": {},
     "output_type": "execute_result"
    }
   ],
   "source": [
    "len(df_unique)"
   ]
  },
  {
   "cell_type": "code",
   "execution_count": 67,
   "id": "f9c2c64b-fc9d-4374-83dd-146f15f34c68",
   "metadata": {},
   "outputs": [
    {
     "data": {
      "text/plain": [
       "374750"
      ]
     },
     "execution_count": 67,
     "metadata": {},
     "output_type": "execute_result"
    }
   ],
   "source": [
    "df_unique = df_unique.drop_duplicates(subset=['medongoid'])\n",
    "len(df_unique)"
   ]
  },
  {
   "cell_type": "code",
   "execution_count": 68,
   "id": "73a76caa-61cb-4791-b8ed-ef4b6f254403",
   "metadata": {},
   "outputs": [
    {
     "data": {
      "text/plain": [
       "1035190"
      ]
     },
     "execution_count": 68,
     "metadata": {},
     "output_type": "execute_result"
    }
   ],
   "source": [
    "df_unique = df_unique[~df_unique['diagnosis'].apply(lambda x: 'unknown' in x)]\n",
    "len(df_unique)"
   ]
  },
  {
   "cell_type": "code",
   "execution_count": null,
   "id": "e3e4e192-9d8a-4f85-bc77-631a6b99cb5e",
   "metadata": {},
   "outputs": [],
   "source": [
    "df_cleaned = df_cleaned[~df_cleaned['diagnosis'].apply(lambda x: 'unknown' in x)]"
   ]
  },
  {
   "cell_type": "code",
   "execution_count": 42,
   "id": "64b0e554-ff52-4514-812f-dc4ce6d2696b",
   "metadata": {},
   "outputs": [
    {
     "data": {
      "text/html": [
       "<div>\n",
       "<style scoped>\n",
       "    .dataframe tbody tr th:only-of-type {\n",
       "        vertical-align: middle;\n",
       "    }\n",
       "\n",
       "    .dataframe tbody tr th {\n",
       "        vertical-align: top;\n",
       "    }\n",
       "\n",
       "    .dataframe thead th {\n",
       "        text-align: right;\n",
       "    }\n",
       "</style>\n",
       "<table border=\"1\" class=\"dataframe\">\n",
       "  <thead>\n",
       "    <tr style=\"text-align: right;\">\n",
       "      <th></th>\n",
       "      <th>date</th>\n",
       "      <th>district</th>\n",
       "      <th>city</th>\n",
       "      <th>facilityid</th>\n",
       "      <th>doctorname</th>\n",
       "      <th>medongoid</th>\n",
       "      <th>appointmenttime</th>\n",
       "      <th>gender</th>\n",
       "      <th>age</th>\n",
       "      <th>diagnosis</th>\n",
       "      <th>...</th>\n",
       "      <th>duration_11</th>\n",
       "      <th>drug_12</th>\n",
       "      <th>dosage_12</th>\n",
       "      <th>duration_12</th>\n",
       "      <th>drug_13</th>\n",
       "      <th>dosage_13</th>\n",
       "      <th>duration_13</th>\n",
       "      <th>drug_14</th>\n",
       "      <th>dosage_14</th>\n",
       "      <th>duration_14</th>\n",
       "    </tr>\n",
       "  </thead>\n",
       "  <tbody>\n",
       "    <tr>\n",
       "      <th>0</th>\n",
       "      <td>2017-06-10</td>\n",
       "      <td>West</td>\n",
       "      <td>Uttam Nagar</td>\n",
       "      <td>320721</td>\n",
       "      <td>NISHANT</td>\n",
       "      <td>1.162021e+09</td>\n",
       "      <td>13:07:17</td>\n",
       "      <td>0</td>\n",
       "      <td>30.0</td>\n",
       "      <td>['body pain']</td>\n",
       "      <td>...</td>\n",
       "      <td>NaN</td>\n",
       "      <td>NaN</td>\n",
       "      <td>NaN</td>\n",
       "      <td>NaN</td>\n",
       "      <td>NaN</td>\n",
       "      <td>NaN</td>\n",
       "      <td>NaN</td>\n",
       "      <td>NaN</td>\n",
       "      <td>NaN</td>\n",
       "      <td>NaN</td>\n",
       "    </tr>\n",
       "    <tr>\n",
       "      <th>1</th>\n",
       "      <td>2018-04-26</td>\n",
       "      <td>West</td>\n",
       "      <td>Vikas Puri</td>\n",
       "      <td>310710</td>\n",
       "      <td>Dr. Ravikant</td>\n",
       "      <td>1.116585e+09</td>\n",
       "      <td>12:26:25</td>\n",
       "      <td>1</td>\n",
       "      <td>31.0</td>\n",
       "      <td>['acute respiratory tract infection']</td>\n",
       "      <td>...</td>\n",
       "      <td>NaN</td>\n",
       "      <td>NaN</td>\n",
       "      <td>NaN</td>\n",
       "      <td>NaN</td>\n",
       "      <td>NaN</td>\n",
       "      <td>NaN</td>\n",
       "      <td>NaN</td>\n",
       "      <td>NaN</td>\n",
       "      <td>NaN</td>\n",
       "      <td>NaN</td>\n",
       "    </tr>\n",
       "    <tr>\n",
       "      <th>7</th>\n",
       "      <td>2019-05-24</td>\n",
       "      <td>West</td>\n",
       "      <td>Madipur</td>\n",
       "      <td>360718</td>\n",
       "      <td>Dr. Narendra</td>\n",
       "      <td>1.367754e+09</td>\n",
       "      <td>11:04:53</td>\n",
       "      <td>1</td>\n",
       "      <td>24.0</td>\n",
       "      <td>['specify in advice']</td>\n",
       "      <td>...</td>\n",
       "      <td>NaN</td>\n",
       "      <td>NaN</td>\n",
       "      <td>NaN</td>\n",
       "      <td>NaN</td>\n",
       "      <td>NaN</td>\n",
       "      <td>NaN</td>\n",
       "      <td>NaN</td>\n",
       "      <td>NaN</td>\n",
       "      <td>NaN</td>\n",
       "      <td>NaN</td>\n",
       "    </tr>\n",
       "    <tr>\n",
       "      <th>11</th>\n",
       "      <td>2017-03-30</td>\n",
       "      <td>West</td>\n",
       "      <td>Nangloi</td>\n",
       "      <td>110717</td>\n",
       "      <td>Dr. Rakesh Khanna</td>\n",
       "      <td>1.365336e+09</td>\n",
       "      <td>NaN</td>\n",
       "      <td>1</td>\n",
       "      <td>11.0</td>\n",
       "      <td>['unknown']</td>\n",
       "      <td>...</td>\n",
       "      <td>NaN</td>\n",
       "      <td>NaN</td>\n",
       "      <td>NaN</td>\n",
       "      <td>NaN</td>\n",
       "      <td>NaN</td>\n",
       "      <td>NaN</td>\n",
       "      <td>NaN</td>\n",
       "      <td>NaN</td>\n",
       "      <td>NaN</td>\n",
       "      <td>NaN</td>\n",
       "    </tr>\n",
       "    <tr>\n",
       "      <th>26</th>\n",
       "      <td>2016-07-22</td>\n",
       "      <td>West</td>\n",
       "      <td>MUNDKA</td>\n",
       "      <td>80716</td>\n",
       "      <td>Pankaj</td>\n",
       "      <td>1.204437e+09</td>\n",
       "      <td>NaN</td>\n",
       "      <td>0</td>\n",
       "      <td>23.0</td>\n",
       "      <td>['unknown']</td>\n",
       "      <td>...</td>\n",
       "      <td>NaN</td>\n",
       "      <td>NaN</td>\n",
       "      <td>NaN</td>\n",
       "      <td>NaN</td>\n",
       "      <td>NaN</td>\n",
       "      <td>NaN</td>\n",
       "      <td>NaN</td>\n",
       "      <td>NaN</td>\n",
       "      <td>NaN</td>\n",
       "      <td>NaN</td>\n",
       "    </tr>\n",
       "    <tr>\n",
       "      <th>48</th>\n",
       "      <td>2018-10-04</td>\n",
       "      <td>West</td>\n",
       "      <td>Shakurbasti</td>\n",
       "      <td>150706</td>\n",
       "      <td>Dr. Rakesh Khanna</td>\n",
       "      <td>1.276477e+09</td>\n",
       "      <td>12:08:04</td>\n",
       "      <td>1</td>\n",
       "      <td>45.0</td>\n",
       "      <td>['hypothyroidism']</td>\n",
       "      <td>...</td>\n",
       "      <td>NaN</td>\n",
       "      <td>NaN</td>\n",
       "      <td>NaN</td>\n",
       "      <td>NaN</td>\n",
       "      <td>NaN</td>\n",
       "      <td>NaN</td>\n",
       "      <td>NaN</td>\n",
       "      <td>NaN</td>\n",
       "      <td>NaN</td>\n",
       "      <td>NaN</td>\n",
       "    </tr>\n",
       "    <tr>\n",
       "      <th>1555547</th>\n",
       "      <td>2017-03-01</td>\n",
       "      <td>West</td>\n",
       "      <td>Rajouri Garden</td>\n",
       "      <td>270707</td>\n",
       "      <td>Sunita</td>\n",
       "      <td>1.154435e+09</td>\n",
       "      <td>NaN</td>\n",
       "      <td>1</td>\n",
       "      <td>51.0</td>\n",
       "      <td>['unknown']</td>\n",
       "      <td>...</td>\n",
       "      <td>NaN</td>\n",
       "      <td>NaN</td>\n",
       "      <td>NaN</td>\n",
       "      <td>NaN</td>\n",
       "      <td>NaN</td>\n",
       "      <td>NaN</td>\n",
       "      <td>NaN</td>\n",
       "      <td>NaN</td>\n",
       "      <td>NaN</td>\n",
       "      <td>NaN</td>\n",
       "    </tr>\n",
       "    <tr>\n",
       "      <th>1555548</th>\n",
       "      <td>2016-12-29</td>\n",
       "      <td>West</td>\n",
       "      <td>Vikas Nagar</td>\n",
       "      <td>320714</td>\n",
       "      <td>Chatterjee</td>\n",
       "      <td>1.364425e+09</td>\n",
       "      <td>11:47:33</td>\n",
       "      <td>0</td>\n",
       "      <td>5.0</td>\n",
       "      <td>['acute nasopharyngitis']</td>\n",
       "      <td>...</td>\n",
       "      <td>NaN</td>\n",
       "      <td>NaN</td>\n",
       "      <td>NaN</td>\n",
       "      <td>NaN</td>\n",
       "      <td>NaN</td>\n",
       "      <td>NaN</td>\n",
       "      <td>NaN</td>\n",
       "      <td>NaN</td>\n",
       "      <td>NaN</td>\n",
       "      <td>NaN</td>\n",
       "    </tr>\n",
       "  </tbody>\n",
       "</table>\n",
       "<p>8 rows × 72 columns</p>\n",
       "</div>"
      ],
      "text/plain": [
       "               date district            city  facilityid         doctorname  \\\n",
       "0        2017-06-10     West     Uttam Nagar      320721            NISHANT   \n",
       "1        2018-04-26     West      Vikas Puri      310710       Dr. Ravikant   \n",
       "7        2019-05-24     West         Madipur      360718       Dr. Narendra   \n",
       "11       2017-03-30     West         Nangloi      110717  Dr. Rakesh Khanna   \n",
       "26       2016-07-22     West          MUNDKA       80716             Pankaj   \n",
       "48       2018-10-04     West     Shakurbasti      150706  Dr. Rakesh Khanna   \n",
       "1555547  2017-03-01     West  Rajouri Garden      270707             Sunita   \n",
       "1555548  2016-12-29     West     Vikas Nagar      320714         Chatterjee   \n",
       "\n",
       "            medongoid appointmenttime  gender   age  \\\n",
       "0        1.162021e+09        13:07:17       0  30.0   \n",
       "1        1.116585e+09        12:26:25       1  31.0   \n",
       "7        1.367754e+09        11:04:53       1  24.0   \n",
       "11       1.365336e+09             NaN       1  11.0   \n",
       "26       1.204437e+09             NaN       0  23.0   \n",
       "48       1.276477e+09        12:08:04       1  45.0   \n",
       "1555547  1.154435e+09             NaN       1  51.0   \n",
       "1555548  1.364425e+09        11:47:33       0   5.0   \n",
       "\n",
       "                                     diagnosis  ... duration_11 drug_12  \\\n",
       "0                                ['body pain']  ...         NaN     NaN   \n",
       "1        ['acute respiratory tract infection']  ...         NaN     NaN   \n",
       "7                        ['specify in advice']  ...         NaN     NaN   \n",
       "11                                 ['unknown']  ...         NaN     NaN   \n",
       "26                                 ['unknown']  ...         NaN     NaN   \n",
       "48                          ['hypothyroidism']  ...         NaN     NaN   \n",
       "1555547                            ['unknown']  ...         NaN     NaN   \n",
       "1555548              ['acute nasopharyngitis']  ...         NaN     NaN   \n",
       "\n",
       "        dosage_12 duration_12 drug_13 dosage_13 duration_13 drug_14 dosage_14  \\\n",
       "0             NaN         NaN     NaN       NaN         NaN     NaN       NaN   \n",
       "1             NaN         NaN     NaN       NaN         NaN     NaN       NaN   \n",
       "7             NaN         NaN     NaN       NaN         NaN     NaN       NaN   \n",
       "11            NaN         NaN     NaN       NaN         NaN     NaN       NaN   \n",
       "26            NaN         NaN     NaN       NaN         NaN     NaN       NaN   \n",
       "48            NaN         NaN     NaN       NaN         NaN     NaN       NaN   \n",
       "1555547       NaN         NaN     NaN       NaN         NaN     NaN       NaN   \n",
       "1555548       NaN         NaN     NaN       NaN         NaN     NaN       NaN   \n",
       "\n",
       "        duration_14  \n",
       "0               NaN  \n",
       "1               NaN  \n",
       "7               NaN  \n",
       "11              NaN  \n",
       "26              NaN  \n",
       "48              NaN  \n",
       "1555547         NaN  \n",
       "1555548         NaN  \n",
       "\n",
       "[8 rows x 72 columns]"
      ]
     },
     "execution_count": 42,
     "metadata": {},
     "output_type": "execute_result"
    }
   ],
   "source": [
    "df_unique = df.drop_duplicates(subset=['city'])\n",
    "len(df_unique)\n",
    "df_unique.head(10)"
   ]
  },
  {
   "cell_type": "code",
   "execution_count": 68,
   "id": "6c9c317c-f268-420a-8ca9-727274f6849b",
   "metadata": {},
   "outputs": [
    {
     "data": {
      "text/plain": [
       "71191"
      ]
     },
     "execution_count": 68,
     "metadata": {},
     "output_type": "execute_result"
    }
   ],
   "source": [
    "df_filtered = df_unique[df_unique['city'] == 'Uttam Nagar']\n",
    "len(df_filtered)"
   ]
  },
  {
   "cell_type": "code",
   "execution_count": 69,
   "id": "d4cebb79-ac6c-40dd-9d45-e5836130732f",
   "metadata": {},
   "outputs": [
    {
     "data": {
      "text/plain": [
       "119154"
      ]
     },
     "execution_count": 69,
     "metadata": {},
     "output_type": "execute_result"
    }
   ],
   "source": [
    "df_filtered = df_unique[df_unique['city'] == 'Nangloi']\n",
    "len(df_filtered)"
   ]
  },
  {
   "cell_type": "code",
   "execution_count": 70,
   "id": "d25b1793-eae2-4e34-af9d-46b99181d6d8",
   "metadata": {},
   "outputs": [
    {
     "data": {
      "text/plain": [
       "111751"
      ]
     },
     "execution_count": 70,
     "metadata": {},
     "output_type": "execute_result"
    }
   ],
   "source": [
    "df_filtered = df_unique[df_unique['city'] == 'Vikas Puri']\n",
    "len(df_filtered)"
   ]
  },
  {
   "cell_type": "code",
   "execution_count": 71,
   "id": "2c505779-ff88-416f-bb14-3d578fc8ac7d",
   "metadata": {},
   "outputs": [
    {
     "data": {
      "text/plain": [
       "14712"
      ]
     },
     "execution_count": 71,
     "metadata": {},
     "output_type": "execute_result"
    }
   ],
   "source": [
    "df_filtered = df_unique[df_unique['city'] == 'Madipur']\n",
    "len(df_filtered)"
   ]
  },
  {
   "cell_type": "code",
   "execution_count": 72,
   "id": "9e69338a-9e73-463d-8559-de187b56bff7",
   "metadata": {},
   "outputs": [
    {
     "data": {
      "text/plain": [
       "14873"
      ]
     },
     "execution_count": 72,
     "metadata": {},
     "output_type": "execute_result"
    }
   ],
   "source": [
    "df_filtered = df_unique[df_unique['city'] == 'Shakurbasti']\n",
    "len(df_filtered)"
   ]
  },
  {
   "cell_type": "code",
   "execution_count": 73,
   "id": "65a3313c-bc02-4ea1-8b3c-fc17a7619c68",
   "metadata": {},
   "outputs": [
    {
     "data": {
      "text/plain": [
       "16931"
      ]
     },
     "execution_count": 73,
     "metadata": {},
     "output_type": "execute_result"
    }
   ],
   "source": [
    "df_filtered = df_unique[df_unique['city'] == 'MUNDKA']\n",
    "len(df_filtered)"
   ]
  },
  {
   "cell_type": "code",
   "execution_count": 74,
   "id": "92dc406f-f0db-48e3-af7e-210a9d962880",
   "metadata": {},
   "outputs": [
    {
     "data": {
      "text/plain": [
       "13382"
      ]
     },
     "execution_count": 74,
     "metadata": {},
     "output_type": "execute_result"
    }
   ],
   "source": [
    "df_filtered = df_unique[df_unique['city'] == 'Rajouri Garden']\n",
    "len(df_filtered)"
   ]
  },
  {
   "cell_type": "code",
   "execution_count": 75,
   "id": "ed67392d-9d34-4cfc-949c-289bc221d6fc",
   "metadata": {},
   "outputs": [
    {
     "data": {
      "text/plain": [
       "12756"
      ]
     },
     "execution_count": 75,
     "metadata": {},
     "output_type": "execute_result"
    }
   ],
   "source": [
    "df_filtered = df_unique[df_unique['city'] == 'Vikas Nagar']\n",
    "len(df_filtered)"
   ]
  },
  {
   "cell_type": "code",
   "execution_count": 76,
   "id": "c89600cd-5143-41c3-9734-2b652baf2db0",
   "metadata": {},
   "outputs": [
    {
     "data": {
      "text/plain": [
       "21783"
      ]
     },
     "execution_count": 76,
     "metadata": {},
     "output_type": "execute_result"
    }
   ],
   "source": [
    "df_filtered = df_unique[df_unique['age'].between(0, 2)]\n",
    "len(df_filtered)"
   ]
  },
  {
   "cell_type": "code",
   "execution_count": 77,
   "id": "b94c9d32-1aeb-430b-8455-e8ff98444b09",
   "metadata": {},
   "outputs": [
    {
     "data": {
      "text/plain": [
       "44499"
      ]
     },
     "execution_count": 77,
     "metadata": {},
     "output_type": "execute_result"
    }
   ],
   "source": [
    "df_filtered = df_unique[df_unique['age'].between(2, 6)]\n",
    "len(df_filtered)"
   ]
  },
  {
   "cell_type": "code",
   "execution_count": 78,
   "id": "2e27f12e-e0e0-4cb8-adbe-4399a72a68a4",
   "metadata": {},
   "outputs": [
    {
     "data": {
      "text/plain": [
       "46086"
      ]
     },
     "execution_count": 78,
     "metadata": {},
     "output_type": "execute_result"
    }
   ],
   "source": [
    "df_filtered = df_unique[df_unique['age'].between(6, 12)]\n",
    "len(df_filtered)"
   ]
  },
  {
   "cell_type": "code",
   "execution_count": 79,
   "id": "a465650c-d285-4b5a-ad44-adfa9c125d6a",
   "metadata": {},
   "outputs": [
    {
     "data": {
      "text/plain": [
       "40094"
      ]
     },
     "execution_count": 79,
     "metadata": {},
     "output_type": "execute_result"
    }
   ],
   "source": [
    "df_filtered = df_unique[df_unique['age'].between(12, 18)]\n",
    "len(df_filtered)"
   ]
  },
  {
   "cell_type": "code",
   "execution_count": 80,
   "id": "cbe87bc3-6af4-477c-98ed-26d8947aac81",
   "metadata": {},
   "outputs": [
    {
     "data": {
      "text/plain": [
       "51928"
      ]
     },
     "execution_count": 80,
     "metadata": {},
     "output_type": "execute_result"
    }
   ],
   "source": [
    "df_filtered = df_unique[df_unique['age'].between(18, 25)]\n",
    "len(df_filtered)"
   ]
  },
  {
   "cell_type": "code",
   "execution_count": 81,
   "id": "13d4b086-9947-48a2-8d90-46817560a06f",
   "metadata": {},
   "outputs": [
    {
     "data": {
      "text/plain": [
       "109489"
      ]
     },
     "execution_count": 81,
     "metadata": {},
     "output_type": "execute_result"
    }
   ],
   "source": [
    "df_filtered = df_unique[df_unique['age'].between(26, 44)]\n",
    "len(df_filtered)"
   ]
  },
  {
   "cell_type": "code",
   "execution_count": 82,
   "id": "cd34db5f-3856-4fbe-b576-4584393d2414",
   "metadata": {},
   "outputs": [
    {
     "data": {
      "text/plain": [
       "51057"
      ]
     },
     "execution_count": 82,
     "metadata": {},
     "output_type": "execute_result"
    }
   ],
   "source": [
    "df_filtered = df_unique[df_unique['age'].between(45, 59)]\n",
    "len(df_filtered)"
   ]
  },
  {
   "cell_type": "code",
   "execution_count": 83,
   "id": "115b6be5-b0be-4e61-ab9c-77b0c866be58",
   "metadata": {},
   "outputs": [
    {
     "data": {
      "text/plain": [
       "38194"
      ]
     },
     "execution_count": 83,
     "metadata": {},
     "output_type": "execute_result"
    }
   ],
   "source": [
    "df_filtered = df_unique[df_unique['age'] >= 60]\n",
    "len(df_filtered)"
   ]
  },
  {
   "cell_type": "code",
   "execution_count": 84,
   "id": "83e7bf7d-e636-4d91-bc09-50d06c1e2f30",
   "metadata": {},
   "outputs": [
    {
     "data": {
      "text/plain": [
       "160567"
      ]
     },
     "execution_count": 84,
     "metadata": {},
     "output_type": "execute_result"
    }
   ],
   "source": [
    "df_filtered = df_unique[df_unique['gender'] == 0]\n",
    "len(df_filtered)"
   ]
  },
  {
   "cell_type": "code",
   "execution_count": 85,
   "id": "2048f5fe-332b-44a0-99a0-e3ab10d61706",
   "metadata": {},
   "outputs": [
    {
     "data": {
      "text/plain": [
       "214183"
      ]
     },
     "execution_count": 85,
     "metadata": {},
     "output_type": "execute_result"
    }
   ],
   "source": [
    "df_filtered = df_unique[df_unique['gender'] == 1]\n",
    "len(df_filtered)"
   ]
  },
  {
   "cell_type": "code",
   "execution_count": 2,
   "id": "766ef47f-1913-43c1-8171-46d0ef2ffadd",
   "metadata": {},
   "outputs": [],
   "source": [
    "selected_columns = df[['medongoid', 'diagnosis']]\n",
    "\n",
    "selected_columns.to_csv('diagnosis.csv', index=False)"
   ]
  },
  {
   "cell_type": "code",
   "execution_count": 14,
   "id": "8f906cc2-2d7b-48a7-94fc-7e78a2fd89b1",
   "metadata": {},
   "outputs": [
    {
     "data": {
      "text/html": [
       "<div>\n",
       "<style scoped>\n",
       "    .dataframe tbody tr th:only-of-type {\n",
       "        vertical-align: middle;\n",
       "    }\n",
       "\n",
       "    .dataframe tbody tr th {\n",
       "        vertical-align: top;\n",
       "    }\n",
       "\n",
       "    .dataframe thead th {\n",
       "        text-align: right;\n",
       "    }\n",
       "</style>\n",
       "<table border=\"1\" class=\"dataframe\">\n",
       "  <thead>\n",
       "    <tr style=\"text-align: right;\">\n",
       "      <th></th>\n",
       "      <th>medongoid</th>\n",
       "      <th>diagnosis</th>\n",
       "    </tr>\n",
       "  </thead>\n",
       "  <tbody>\n",
       "    <tr>\n",
       "      <th>0</th>\n",
       "      <td>1.162021e+09</td>\n",
       "      <td>['body pain']</td>\n",
       "    </tr>\n",
       "    <tr>\n",
       "      <th>1</th>\n",
       "      <td>1.116585e+09</td>\n",
       "      <td>['acute respiratory tract infection']</td>\n",
       "    </tr>\n",
       "    <tr>\n",
       "      <th>2</th>\n",
       "      <td>1.367039e+09</td>\n",
       "      <td>['influenza']</td>\n",
       "    </tr>\n",
       "    <tr>\n",
       "      <th>3</th>\n",
       "      <td>1.120420e+09</td>\n",
       "      <td>['dermatitis+eczema', 'gastroenteritis']</td>\n",
       "    </tr>\n",
       "    <tr>\n",
       "      <th>4</th>\n",
       "      <td>1.367939e+09</td>\n",
       "      <td>['back pain']</td>\n",
       "    </tr>\n",
       "  </tbody>\n",
       "</table>\n",
       "</div>"
      ],
      "text/plain": [
       "      medongoid                                 diagnosis\n",
       "0  1.162021e+09                             ['body pain']\n",
       "1  1.116585e+09     ['acute respiratory tract infection']\n",
       "2  1.367039e+09                             ['influenza']\n",
       "3  1.120420e+09  ['dermatitis+eczema', 'gastroenteritis']\n",
       "4  1.367939e+09                             ['back pain']"
      ]
     },
     "execution_count": 14,
     "metadata": {},
     "output_type": "execute_result"
    }
   ],
   "source": [
    "df = pd.read_csv(\"diagnosis.csv\")\n",
    "df.head()"
   ]
  },
  {
   "cell_type": "code",
   "execution_count": 15,
   "id": "1130243e-a097-421f-9459-28b841f54fbf",
   "metadata": {},
   "outputs": [
    {
     "data": {
      "text/plain": [
       "2230551"
      ]
     },
     "execution_count": 15,
     "metadata": {},
     "output_type": "execute_result"
    }
   ],
   "source": [
    "len(df)"
   ]
  },
  {
   "cell_type": "code",
   "execution_count": 15,
   "id": "efcfc1e7-83df-4229-9aff-bd09c856e848",
   "metadata": {},
   "outputs": [],
   "source": [
    "df = df[~df['diagnosis'].apply(lambda x: 'unknown' in x)]\n",
    "df.to_csv(\"updated_data.csv\")\n",
    "# Save the cleaned DataFrame back to a new CSV file"
   ]
  },
  {
   "cell_type": "code",
   "execution_count": 16,
   "id": "6643023f-d9c7-446a-9e5b-49ad4ef326f6",
   "metadata": {},
   "outputs": [
    {
     "data": {
      "text/plain": [
       "1759331"
      ]
     },
     "execution_count": 16,
     "metadata": {},
     "output_type": "execute_result"
    }
   ],
   "source": [
    "len(df)"
   ]
  },
  {
   "cell_type": "code",
   "execution_count": 9,
   "id": "ebd4bff2-cea0-4702-8e29-55ef3a7e782a",
   "metadata": {},
   "outputs": [
    {
     "name": "stdout",
     "output_type": "stream",
     "text": [
      "Rows containing '##' have been removed.\n"
     ]
    },
    {
     "data": {
      "text/plain": [
       "2222707"
      ]
     },
     "execution_count": 9,
     "metadata": {},
     "output_type": "execute_result"
    }
   ],
   "source": [
    "df = df[~df.apply(lambda row: row.astype(str).str.contains('##').any(), axis=1)]\n",
    "\n",
    "# Save the cleaned DataFrame back to a CSV file\n",
    "df_cleaned.to_csv('updated_data.csv', index=False)\n",
    "\n",
    "print(\"Rows containing '##' have been removed.\")\n",
    "len(df_cleaned)"
   ]
  },
  {
   "cell_type": "code",
   "execution_count": 10,
   "id": "38bad905-bdb6-45ec-b2d1-91a1d670442d",
   "metadata": {},
   "outputs": [
    {
     "name": "stderr",
     "output_type": "stream",
     "text": [
      "C:\\Users\\vidhi\\AppData\\Local\\Temp\\ipykernel_17728\\2973739497.py:1: DtypeWarning: Columns (13,15,17,18,19,20,21,22,23,24,26,48,49,50,51,52,53,54,55,56) have mixed types. Specify dtype option on import or set low_memory=False.\n",
      "  df = pd.read_csv(\"updated_data.csv\")\n"
     ]
    },
    {
     "data": {
      "text/plain": [
       "2222707"
      ]
     },
     "execution_count": 10,
     "metadata": {},
     "output_type": "execute_result"
    }
   ],
   "source": [
    "df = pd.read_csv(\"updated_data.csv\")\n",
    "len(df)"
   ]
  },
  {
   "cell_type": "code",
   "execution_count": 11,
   "id": "e63c2d68-2e66-49db-8fa5-60e82e802a58",
   "metadata": {},
   "outputs": [
    {
     "name": "stderr",
     "output_type": "stream",
     "text": [
      "C:\\Users\\vidhi\\AppData\\Local\\Temp\\ipykernel_17728\\3362615201.py:4: DtypeWarning: Columns (13,15,17,18,19,20,21,22,23,24,26,48,49,50,51,52,53,54,55,56) have mixed types. Specify dtype option on import or set low_memory=False.\n",
      "  df = pd.read_csv('updated_data.csv')\n"
     ]
    },
    {
     "name": "stdout",
     "output_type": "stream",
     "text": [
      "Rows removed successfully and saved to 'respiratory_diseases.csv'.\n"
     ]
    },
    {
     "data": {
      "text/plain": [
       "2222252"
      ]
     },
     "execution_count": 11,
     "metadata": {},
     "output_type": "execute_result"
    }
   ],
   "source": [
    "import pandas as pd\n",
    "\n",
    "# Load the dataset\n",
    "df = pd.read_csv('updated_data.csv')\n",
    "\n",
    "# List of IDs to remove\n",
    "id_to_remove = [1014000000, 1036000000, 1049000000, 1203729195, 1215484961,\n",
    "                1217000000, 1260000000, 1270000000, 1294533132, 1299000000,\n",
    "                1300000000, 1301000000, 1311000000, 1319000000, 1320000000,\n",
    "                1322000000, 1367000000]\n",
    "\n",
    "# Remove rows where 'medongoid' is in the list of IDs to remove\n",
    "df = df[~df['medongoid'].isin(id_to_remove)]\n",
    "\n",
    "# Save the updated DataFrame back to the CSV file\n",
    "df.to_csv('respiratory_diseases.csv', index=False)\n",
    "\n",
    "print(\"Rows removed successfully and saved to 'respiratory_diseases.csv'.\")\n",
    "len(df)"
   ]
  },
  {
   "cell_type": "code",
   "execution_count": 17,
   "id": "be94b837-d10b-4373-9b5a-576e8b775a90",
   "metadata": {},
   "outputs": [
    {
     "name": "stderr",
     "output_type": "stream",
     "text": [
      "C:\\Users\\vidhi\\AppData\\Local\\Temp\\ipykernel_17728\\2635601688.py:5: DtypeWarning: Columns (18,19,20,21,22,23,24,25,52,53,54,55,56,57) have mixed types. Specify dtype option on import or set low_memory=False.\n",
      "  clean_data = pd.read_csv(clean_data_path)\n"
     ]
    },
    {
     "data": {
      "text/plain": [
       "(                age        gender\n",
       " count  1.759331e+06  1.759331e+06\n",
       " mean   3.145623e+01  5.848905e-01\n",
       " std    2.009378e+01  4.927410e-01\n",
       " min    0.000000e+00  0.000000e+00\n",
       " 25%    1.400000e+01  0.000000e+00\n",
       " 50%    3.000000e+01  1.000000e+00\n",
       " 75%    4.500000e+01  1.000000e+00\n",
       " max    1.000000e+02  1.000000e+00,\n",
       " gender\n",
       " 1    1029016\n",
       " 0     730315\n",
       " Name: count, dtype: int64,\n",
       " city\n",
       " Nangloi           615776\n",
       " Vikas Puri        382954\n",
       " Uttam Nagar       365104\n",
       " Rajouri Garden     90357\n",
       " Shakurbasti        88465\n",
       " Madipur            84708\n",
       " Vikas Nagar        67090\n",
       " MUNDKA             64877\n",
       " Name: count, dtype: int64,\n",
       " district\n",
       " West    1759331\n",
       " Name: count, dtype: int64,\n",
       " diagnosis\n",
       " ['acute upper respiratory infections']    118997\n",
       " ['cough']                                 109192\n",
       " ['specify in advice']                      99658\n",
       " ['acute nasopharyngitis']                  88360\n",
       " ['body pain']                              80617\n",
       " ['viral fever']                            74896\n",
       " ['type 2 diabetes mellitus']               57328\n",
       " ['back pain']                              55356\n",
       " ['gastroenteritis']                        54412\n",
       " ['asthenia']                               54062\n",
       " Name: count, dtype: int64,\n",
       " month\n",
       " 1     150828\n",
       " 2     129189\n",
       " 3     135032\n",
       " 4     168426\n",
       " 5     179494\n",
       " 6     161582\n",
       " 7     125261\n",
       " 8     144927\n",
       " 9     150538\n",
       " 10    134821\n",
       " 11    129705\n",
       " 12    149528\n",
       " dtype: int64,\n",
       " year\n",
       " 2016     79352\n",
       " 2017    534833\n",
       " 2018    747574\n",
       " 2019    397572\n",
       " dtype: int64)"
      ]
     },
     "execution_count": 17,
     "metadata": {},
     "output_type": "execute_result"
    }
   ],
   "source": [
    "import matplotlib.pyplot as plt\n",
    "import seaborn as sns\n",
    "clean_data_path = 'updated_data.csv'\n",
    "# Load clean data\n",
    "clean_data = pd.read_csv(clean_data_path)\n",
    "\n",
    "# Convert 'date' to datetime for easier analysis\n",
    "clean_data['date'] = pd.to_datetime(clean_data['date'])\n",
    "\n",
    "# Extract additional time-based features\n",
    "clean_data['year'] = clean_data['date'].dt.year\n",
    "clean_data['month'] = clean_data['date'].dt.month\n",
    "clean_data['day'] = clean_data['date'].dt.day\n",
    "clean_data['quarter'] = clean_data['date'].dt.quarter\n",
    "\n",
    "# Overview: Summary statistics for numerical variables\n",
    "summary_stats = clean_data[['age', 'gender']].describe()\n",
    "\n",
    "# Gender distribution\n",
    "gender_dist = clean_data['gender'].value_counts()\n",
    "\n",
    "# Top cities and districts\n",
    "top_cities = clean_data['city'].value_counts().head(10)\n",
    "top_districts = clean_data['district'].value_counts()\n",
    "\n",
    "# Diagnosis frequency\n",
    "diagnosis_counts = clean_data['diagnosis'].value_counts().head(10)\n",
    "\n",
    "# Seasonal trend: Monthly case counts\n",
    "monthly_trend = clean_data.groupby('month').size()\n",
    "\n",
    "# Yearly case trends\n",
    "yearly_trend = clean_data.groupby('year').size()\n",
    "\n",
    "# Results preparation\n",
    "summary_stats, gender_dist, top_cities, top_districts, diagnosis_counts, monthly_trend, yearly_trend"
   ]
  },
  {
   "cell_type": "code",
   "execution_count": 18,
   "id": "1afc1af6-1c46-46f7-b954-bad44928ac1d",
   "metadata": {},
   "outputs": [
    {
     "name": "stderr",
     "output_type": "stream",
     "text": [
      "C:\\Users\\vidhi\\AppData\\Local\\Temp\\ipykernel_17728\\381755351.py:12: FutureWarning: \n",
      "\n",
      "Passing `palette` without assigning `hue` is deprecated and will be removed in v0.14.0. Assign the `x` variable to `hue` and set `legend=False` for the same effect.\n",
      "\n",
      "  sns.barplot(x=city_distribution.index, y=city_distribution.values, palette='viridis')\n"
     ]
    },
    {
     "data": {
      "image/png": "[encoded data removed]",
      "text/plain": [
       "<Figure size 1200x600 with 1 Axes>"
      ]
     },
     "metadata": {},
     "output_type": "display_data"
    },
    {
     "name": "stderr",
     "output_type": "stream",
     "text": [
      "C:\\Users\\vidhi\\AppData\\Local\\Temp\\ipykernel_17728\\381755351.py:22: FutureWarning: \n",
      "\n",
      "Passing `palette` without assigning `hue` is deprecated and will be removed in v0.14.0. Assign the `y` variable to `hue` and set `legend=False` for the same effect.\n",
      "\n",
      "  sns.barplot(y=diagnosis_distribution.index, x=diagnosis_distribution.values, palette='rocket')\n"
     ]
    },
    {
     "data": {
      "image/png": "[encoded data removed]",
      "text/plain": [
       "<Figure size 1200x600 with 1 Axes>"
      ]
     },
     "metadata": {},
     "output_type": "display_data"
    },
    {
     "data": {
      "image/png": "[encoded data removed]",
      "text/plain": [
       "<Figure size 1000x500 with 1 Axes>"
      ]
     },
     "metadata": {},
     "output_type": "display_data"
    }
   ],
   "source": [
    "# City-wise case distribution\n",
    "city_distribution = clean_data['city'].value_counts().head(10)\n",
    "\n",
    "# Diagnosis vs count of cases\n",
    "diagnosis_distribution = clean_data['diagnosis'].value_counts().head(10)\n",
    "\n",
    "# Month-wise trend of cases\n",
    "month_trend = clean_data.groupby('month').size()\n",
    "\n",
    "# Plot 1: City-wise case distribution\n",
    "plt.figure(figsize=(12, 6))\n",
    "sns.barplot(x=city_distribution.index, y=city_distribution.values, palette='viridis')\n",
    "plt.title(\"Top 10 Cities by Case Distribution\", fontsize=14)\n",
    "plt.xlabel(\"City\", fontsize=12)\n",
    "plt.ylabel(\"Number of Cases\", fontsize=12)\n",
    "plt.xticks(rotation=45)\n",
    "plt.tight_layout()\n",
    "plt.show()\n",
    "\n",
    "# Plot 2: Diagnosis vs count of cases\n",
    "plt.figure(figsize=(12, 6))\n",
    "sns.barplot(y=diagnosis_distribution.index, x=diagnosis_distribution.values, palette='rocket')\n",
    "plt.title(\"Top 10 Diagnoses by Case Count\", fontsize=14)\n",
    "plt.xlabel(\"Number of Cases\", fontsize=12)\n",
    "plt.ylabel(\"Diagnosis\", fontsize=12)\n",
    "plt.tight_layout()\n",
    "plt.show()\n",
    "\n",
    "# Plot 3: Month-wise trend of cases\n",
    "plt.figure(figsize=(10, 5))\n",
    "sns.lineplot(x=month_trend.index, y=month_trend.values, marker='o', color='blue')\n",
    "plt.title(\"Monthly Trend of Cases\", fontsize=14)\n",
    "plt.xlabel(\"Month\", fontsize=12)\n",
    "plt.ylabel(\"Number of Cases\", fontsize=12)\n",
    "plt.xticks(range(1, 13))\n",
    "plt.grid(axis='y')\n",
    "plt.tight_layout()\n",
    "plt.show()\n"
   ]
  },
  {
   "cell_type": "code",
   "execution_count": 19,
   "id": "a4bb2732-8258-4852-badc-126d2aaa86f3",
   "metadata": {},
   "outputs": [
    {
     "name": "stderr",
     "output_type": "stream",
     "text": [
      "C:\\Users\\vidhi\\AppData\\Local\\Temp\\ipykernel_17728\\389122057.py:14: FutureWarning: \n",
      "\n",
      "Passing `palette` without assigning `hue` is deprecated and will be removed in v0.14.0. Assign the `y` variable to `hue` and set `legend=False` for the same effect.\n",
      "\n",
      "  sns.barplot(data=diagnosis_df.head(10), x='Count', y='Diagnosis', palette='coolwarm')\n"
     ]
    },
    {
     "data": {
      "image/png": "[encoded data removed]",
      "text/plain": [
       "<Figure size 1200x600 with 1 Axes>"
      ]
     },
     "metadata": {},
     "output_type": "display_data"
    }
   ],
   "source": [
    "# Split diagnosis into individual entries and count each diagnosis separately\n",
    "from collections import Counter\n",
    "\n",
    "# Cleaning and flattening the diagnosis column (assumes it's in list-like string format)\n",
    "clean_data['diagnosis_cleaned'] = clean_data['diagnosis'].str.strip(\"[]\").str.replace(\"'\", \"\").str.split(\", \")\n",
    "all_diagnoses = clean_data['diagnosis_cleaned'].explode()\n",
    "\n",
    "# Count the frequency of individual diagnoses\n",
    "diagnosis_counts = Counter(all_diagnoses)\n",
    "diagnosis_df = pd.DataFrame(diagnosis_counts.items(), columns=['Diagnosis', 'Count']).sort_values(by='Count', ascending=False)\n",
    "\n",
    "# Plot the top 10 individual diagnoses\n",
    "plt.figure(figsize=(12, 6))\n",
    "sns.barplot(data=diagnosis_df.head(10), x='Count', y='Diagnosis', palette='coolwarm')\n",
    "plt.title(\"Top 10 Individual Diagnoses by Case Count\", fontsize=14)\n",
    "plt.xlabel(\"Number of Cases\", fontsize=12)\n",
    "plt.ylabel(\"Diagnosis\", fontsize=12)\n",
    "plt.tight_layout()\n",
    "plt.show()"
   ]
  },
  {
   "cell_type": "code",
   "execution_count": 20,
   "id": "d55c7fd4-f082-44e3-9565-5e343681b87a",
   "metadata": {},
   "outputs": [
    {
     "ename": "ValueError",
     "evalue": "Unknown format code 'd' for object of type 'float'",
     "output_type": "error",
     "traceback": [
      "\u001b[1;31m---------------------------------------------------------------------------\u001b[0m",
      "\u001b[1;31mValueError\u001b[0m                                Traceback (most recent call last)",
      "Cell \u001b[1;32mIn[20], line 8\u001b[0m\n\u001b[0;32m      6\u001b[0m \u001b[38;5;66;03m# Daily Trends (Day of Week vs Month)\u001b[39;00m\n\u001b[0;32m      7\u001b[0m daily_trends \u001b[38;5;241m=\u001b[39m clean_data\u001b[38;5;241m.\u001b[39mgroupby([\u001b[38;5;124m'\u001b[39m\u001b[38;5;124mday_of_week\u001b[39m\u001b[38;5;124m'\u001b[39m, \u001b[38;5;124m'\u001b[39m\u001b[38;5;124mmonth\u001b[39m\u001b[38;5;124m'\u001b[39m])\u001b[38;5;241m.\u001b[39msize()\u001b[38;5;241m.\u001b[39munstack()\u001b[38;5;241m.\u001b[39mfillna(\u001b[38;5;241m0\u001b[39m)\n\u001b[1;32m----> 8\u001b[0m \u001b[43msns\u001b[49m\u001b[38;5;241;43m.\u001b[39;49m\u001b[43mheatmap\u001b[49m\u001b[43m(\u001b[49m\u001b[43mdaily_trends\u001b[49m\u001b[43m,\u001b[49m\u001b[43m \u001b[49m\u001b[43mannot\u001b[49m\u001b[38;5;241;43m=\u001b[39;49m\u001b[38;5;28;43;01mTrue\u001b[39;49;00m\u001b[43m,\u001b[49m\u001b[43m \u001b[49m\u001b[43mfmt\u001b[49m\u001b[38;5;241;43m=\u001b[39;49m\u001b[38;5;124;43m\"\u001b[39;49m\u001b[38;5;124;43md\u001b[39;49m\u001b[38;5;124;43m\"\u001b[39;49m\u001b[43m,\u001b[49m\u001b[43m \u001b[49m\u001b[43mcmap\u001b[49m\u001b[38;5;241;43m=\u001b[39;49m\u001b[38;5;124;43m\"\u001b[39;49m\u001b[38;5;124;43mYlGnBu\u001b[39;49m\u001b[38;5;124;43m\"\u001b[39;49m\u001b[43m,\u001b[49m\u001b[43m \u001b[49m\u001b[43mlinewidths\u001b[49m\u001b[38;5;241;43m=\u001b[39;49m\u001b[38;5;241;43m0.5\u001b[39;49m\u001b[43m)\u001b[49m\n\u001b[0;32m      9\u001b[0m plt\u001b[38;5;241m.\u001b[39mtitle(\u001b[38;5;124m\"\u001b[39m\u001b[38;5;124mDaily Trends: Density of Cases by Day of Week and Month\u001b[39m\u001b[38;5;124m\"\u001b[39m)\n\u001b[0;32m     10\u001b[0m plt\u001b[38;5;241m.\u001b[39mxlabel(\u001b[38;5;124m\"\u001b[39m\u001b[38;5;124mMonth\u001b[39m\u001b[38;5;124m\"\u001b[39m)\n",
      "File \u001b[1;32m~\\AppData\\Local\\Programs\\Python\\Python312\\Lib\\site-packages\\seaborn\\matrix.py:459\u001b[0m, in \u001b[0;36mheatmap\u001b[1;34m(data, vmin, vmax, cmap, center, robust, annot, fmt, annot_kws, linewidths, linecolor, cbar, cbar_kws, cbar_ax, square, xticklabels, yticklabels, mask, ax, **kwargs)\u001b[0m\n\u001b[0;32m    457\u001b[0m \u001b[38;5;28;01mif\u001b[39;00m square:\n\u001b[0;32m    458\u001b[0m     ax\u001b[38;5;241m.\u001b[39mset_aspect(\u001b[38;5;124m\"\u001b[39m\u001b[38;5;124mequal\u001b[39m\u001b[38;5;124m\"\u001b[39m)\n\u001b[1;32m--> 459\u001b[0m \u001b[43mplotter\u001b[49m\u001b[38;5;241;43m.\u001b[39;49m\u001b[43mplot\u001b[49m\u001b[43m(\u001b[49m\u001b[43max\u001b[49m\u001b[43m,\u001b[49m\u001b[43m \u001b[49m\u001b[43mcbar_ax\u001b[49m\u001b[43m,\u001b[49m\u001b[43m \u001b[49m\u001b[43mkwargs\u001b[49m\u001b[43m)\u001b[49m\n\u001b[0;32m    460\u001b[0m \u001b[38;5;28;01mreturn\u001b[39;00m ax\n",
      "File \u001b[1;32m~\\AppData\\Local\\Programs\\Python\\Python312\\Lib\\site-packages\\seaborn\\matrix.py:352\u001b[0m, in \u001b[0;36m_HeatMapper.plot\u001b[1;34m(self, ax, cax, kws)\u001b[0m\n\u001b[0;32m    350\u001b[0m \u001b[38;5;66;03m# Annotate the cells with the formatted values\u001b[39;00m\n\u001b[0;32m    351\u001b[0m \u001b[38;5;28;01mif\u001b[39;00m \u001b[38;5;28mself\u001b[39m\u001b[38;5;241m.\u001b[39mannot:\n\u001b[1;32m--> 352\u001b[0m     \u001b[38;5;28;43mself\u001b[39;49m\u001b[38;5;241;43m.\u001b[39;49m\u001b[43m_annotate_heatmap\u001b[49m\u001b[43m(\u001b[49m\u001b[43max\u001b[49m\u001b[43m,\u001b[49m\u001b[43m \u001b[49m\u001b[43mmesh\u001b[49m\u001b[43m)\u001b[49m\n",
      "File \u001b[1;32m~\\AppData\\Local\\Programs\\Python\\Python312\\Lib\\site-packages\\seaborn\\matrix.py:260\u001b[0m, in \u001b[0;36m_HeatMapper._annotate_heatmap\u001b[1;34m(self, ax, mesh)\u001b[0m\n\u001b[0;32m    258\u001b[0m lum \u001b[38;5;241m=\u001b[39m relative_luminance(color)\n\u001b[0;32m    259\u001b[0m text_color \u001b[38;5;241m=\u001b[39m \u001b[38;5;124m\"\u001b[39m\u001b[38;5;124m.15\u001b[39m\u001b[38;5;124m\"\u001b[39m \u001b[38;5;28;01mif\u001b[39;00m lum \u001b[38;5;241m>\u001b[39m \u001b[38;5;241m.408\u001b[39m \u001b[38;5;28;01melse\u001b[39;00m \u001b[38;5;124m\"\u001b[39m\u001b[38;5;124mw\u001b[39m\u001b[38;5;124m\"\u001b[39m\n\u001b[1;32m--> 260\u001b[0m annotation \u001b[38;5;241m=\u001b[39m \u001b[43m(\u001b[49m\u001b[38;5;124;43m\"\u001b[39;49m\u001b[38;5;124;43m{\u001b[39;49m\u001b[38;5;124;43m:\u001b[39;49m\u001b[38;5;124;43m\"\u001b[39;49m\u001b[43m \u001b[49m\u001b[38;5;241;43m+\u001b[39;49m\u001b[43m \u001b[49m\u001b[38;5;28;43mself\u001b[39;49m\u001b[38;5;241;43m.\u001b[39;49m\u001b[43mfmt\u001b[49m\u001b[43m \u001b[49m\u001b[38;5;241;43m+\u001b[39;49m\u001b[43m \u001b[49m\u001b[38;5;124;43m\"\u001b[39;49m\u001b[38;5;124;43m}\u001b[39;49m\u001b[38;5;124;43m\"\u001b[39;49m\u001b[43m)\u001b[49m\u001b[38;5;241;43m.\u001b[39;49m\u001b[43mformat\u001b[49m\u001b[43m(\u001b[49m\u001b[43mval\u001b[49m\u001b[43m)\u001b[49m\n\u001b[0;32m    261\u001b[0m text_kwargs \u001b[38;5;241m=\u001b[39m \u001b[38;5;28mdict\u001b[39m(color\u001b[38;5;241m=\u001b[39mtext_color, ha\u001b[38;5;241m=\u001b[39m\u001b[38;5;124m\"\u001b[39m\u001b[38;5;124mcenter\u001b[39m\u001b[38;5;124m\"\u001b[39m, va\u001b[38;5;241m=\u001b[39m\u001b[38;5;124m\"\u001b[39m\u001b[38;5;124mcenter\u001b[39m\u001b[38;5;124m\"\u001b[39m)\n\u001b[0;32m    262\u001b[0m text_kwargs\u001b[38;5;241m.\u001b[39mupdate(\u001b[38;5;28mself\u001b[39m\u001b[38;5;241m.\u001b[39mannot_kws)\n",
      "\u001b[1;31mValueError\u001b[0m: Unknown format code 'd' for object of type 'float'"
     ]
    },
    {
     "data": {
      "image/png": "[encoded data removed]",
      "text/plain": [
       "<Figure size 640x480 with 2 Axes>"
      ]
     },
     "metadata": {},
     "output_type": "display_data"
    }
   ],
   "source": [
    "# Extract day of the week and year information\n",
    "clean_data['day_of_week'] = clean_data['date'].dt.day_name()\n",
    "clean_data['month'] = clean_data['date'].dt.month\n",
    "clean_data['year'] = clean_data['date'].dt.year\n",
    "\n",
    "# Daily Trends (Day of Week vs Month)\n",
    "daily_trends = clean_data.groupby(['day_of_week', 'month']).size().unstack().fillna(0)\n",
    "sns.heatmap(daily_trends, annot=True, fmt=\"d\", cmap=\"YlGnBu\", linewidths=0.5)\n",
    "plt.title(\"Daily Trends: Density of Cases by Day of Week and Month\")\n",
    "plt.xlabel(\"Month\")\n",
    "plt.ylabel(\"Day of Week\")\n",
    "plt.show()\n",
    "\n",
    "# Monthly Trends (Year vs Month)\n",
    "monthly_trends = clean_data.groupby(['year', 'month']).size().unstack().fillna(0)\n",
    "sns.heatmap(monthly_trends, annot=True, fmt=\"d\", cmap=\"coolwarm\", linewidths=0.5)\n",
    "plt.title(\"Monthly Trends: Density of Cases by Month and Year\")\n",
    "plt.xlabel(\"Month\")\n",
    "plt.ylabel(\"Year\")\n",
    "plt.show()\n",
    "\n",
    "# Yearly Trends (Year vs Day of Week)\n",
    "yearly_trends = clean_data.groupby(['year', 'day_of_week']).size().unstack().fillna(0)\n",
    "sns.heatmap(yearly_trends, annot=True, fmt=\"d\", cmap=\"viridis\", linewidths=0.5)\n",
    "plt.title(\"Yearly Trends: Density of Cases by Year and Day of Week\")\n",
    "plt.xlabel(\"Day of Week\")\n",
    "plt.ylabel(\"Year\")\n",
    "plt.show()"
   ]
  },
  {
   "cell_type": "code",
   "execution_count": 21,
   "id": "32501b5f-b05a-47bb-9eb3-594940600732",
   "metadata": {},
   "outputs": [
    {
     "name": "stderr",
     "output_type": "stream",
     "text": [
      "C:\\Users\\vidhi\\AppData\\Local\\Temp\\ipykernel_17728\\2492868478.py:8: FutureWarning: \n",
      "\n",
      "Passing `palette` without assigning `hue` is deprecated and will be removed in v0.14.0. Assign the `x` variable to `hue` and set `legend=False` for the same effect.\n",
      "\n",
      "  sns.countplot(x='age_group', data=clean_data, palette='viridis')\n"
     ]
    },
    {
     "data": {
      "image/png": "[encoded data removed]",
      "text/plain": [
       "<Figure size 1000x600 with 1 Axes>"
      ]
     },
     "metadata": {},
     "output_type": "display_data"
    }
   ],
   "source": [
    "# Create age groups\n",
    "bins = [0, 10, 20, 30, 40, 50, 60, 70, 80, 100]\n",
    "labels = ['0-10', '11-20', '21-30', '31-40', '41-50', '51-60', '61-70', '71-80', '81-100']\n",
    "clean_data['age_group'] = pd.cut(clean_data['age'], bins=bins, labels=labels)\n",
    "\n",
    "# Plot age group distribution\n",
    "plt.figure(figsize=(10, 6))\n",
    "sns.countplot(x='age_group', data=clean_data, palette='viridis')\n",
    "plt.title(\"Age Group Distribution\")\n",
    "plt.xlabel(\"Age Group\")\n",
    "plt.ylabel(\"Count of Cases\")\n",
    "plt.show()"
   ]
  },
  {
   "cell_type": "code",
   "execution_count": 22,
   "id": "04cda4c4-88a4-421c-bc1d-9c214639850f",
   "metadata": {},
   "outputs": [
    {
     "data": {
      "image/png": "[encoded data removed]",
      "text/plain": [
       "<Figure size 1200x600 with 1 Axes>"
      ]
     },
     "metadata": {},
     "output_type": "display_data"
    }
   ],
   "source": [
    "facility_case_load = clean_data.groupby('facilityid').size().sort_values(ascending=False)\n",
    "facility_case_load.plot(kind='bar', figsize=(12, 6), color='orange')\n",
    "plt.title(\"Facility vs Case Load\")\n",
    "plt.xlabel(\"Facility ID\")\n",
    "plt.ylabel(\"Number of Cases\")\n",
    "plt.show()\n"
   ]
  },
  {
   "cell_type": "code",
   "execution_count": 23,
   "id": "0e2f5ffa-da56-453e-b935-342bb3474f66",
   "metadata": {},
   "outputs": [
    {
     "data": {
      "image/png": "[encoded data removed]",
      "text/plain": [
       "<Figure size 700x700 with 1 Axes>"
      ]
     },
     "metadata": {},
     "output_type": "display_data"
    }
   ],
   "source": [
    "import matplotlib.pyplot as plt\n",
    "\n",
    "# Step 1: Pie chart for gender distribution (Men vs Women)\n",
    "gender_counts = clean_data['gender'].value_counts()\n",
    "gender_labels = ['0', '1']  \n",
    "\n",
    "plt.figure(figsize=(7, 7))\n",
    "plt.pie(gender_counts, labels=gender_labels, autopct='%1.1f%%', startangle=90, colors=['#ff9999','#66b3ff'])\n",
    "plt.title('Gender Distribution (Men vs Women)')\n",
    "plt.show()"
   ]
  },
  {
   "cell_type": "code",
   "execution_count": 9,
   "id": "b1747ebd-ed03-4333-b4a6-9d5a730bf06e",
   "metadata": {},
   "outputs": [
    {
     "name": "stderr",
     "output_type": "stream",
     "text": [
      "C:\\Users\\vidhi\\AppData\\Local\\Temp\\ipykernel_1160\\161871341.py:1: DtypeWarning: Columns (13,15,17,18,19,20,21,22,23,24,26,28,49,50,51,52,53,54,55,56) have mixed types. Specify dtype option on import or set low_memory=False.\n",
      "  df = pd.read_csv(\"sample-data.csv\")\n"
     ]
    }
   ],
   "source": [
    "df = pd.read_csv(\"sample-data.csv\")\n",
    "selected_columns = df[['medongoid', 'drug_1', 'drug_2', 'drug_3', 'drug_4', 'drug_5', 'drug_6', 'drug_7', 'drug_8', 'drug_9', 'drug_10', 'drug_11', 'drug_12', 'drug_13', 'drug_14']]\n",
    "\n",
    "selected_columns.to_csv('medicine.csv', index=False)"
   ]
  },
  {
   "cell_type": "code",
   "execution_count": 9,
   "id": "9dc91e8a-39da-4ee8-b820-6f1fbadae2ce",
   "metadata": {},
   "outputs": [
    {
     "name": "stderr",
     "output_type": "stream",
     "text": [
      "C:\\Users\\vidhi\\AppData\\Local\\Temp\\ipykernel_7336\\2632714868.py:1: DtypeWarning: Columns (8,9) have mixed types. Specify dtype option on import or set low_memory=False.\n",
      "  df = pd.read_csv(\"medicine.csv\")\n"
     ]
    },
    {
     "data": {
      "text/plain": [
       "2230551"
      ]
     },
     "execution_count": 9,
     "metadata": {},
     "output_type": "execute_result"
    }
   ],
   "source": [
    "df = pd.read_csv(\"medicine.csv\")\n",
    "len(df)"
   ]
  },
  {
   "cell_type": "code",
   "execution_count": 11,
   "id": "50ec92d1-d26e-440f-848a-dff5ceeadf69",
   "metadata": {},
   "outputs": [
    {
     "name": "stdout",
     "output_type": "stream",
     "text": [
      "Rows containing '##' have been removed.\n"
     ]
    }
   ],
   "source": [
    "df_cleaned = df[~df.apply(lambda row: row.astype(str).str.contains('##').any(), axis=1)]\n",
    "\n",
    "# Save the cleaned DataFrame back to a CSV file\n",
    "df_cleaned.to_csv('medicine-filtered.csv', index=False)\n",
    "\n",
    "print(\"Rows containing '##' have been removed.\")"
   ]
  },
  {
   "cell_type": "code",
   "execution_count": 22,
   "id": "7629ec2a-f035-44c4-a98f-c6bd6ce017dd",
   "metadata": {},
   "outputs": [],
   "source": [
    "\n",
    "strings_to_delete = [\"A\",\"Ac\",\"Ace\",\"Acet\",\"Al\",\"Alb\",\"Alp\",\"Am\",\"B\",\"B-\",\"Be\",\"Bi\",\"Br\",\"Bro\",\"C\",'Ca','Cal','Calc','Calciu','Calcium','Ce','Ch','Chl','Chlo','Chlor','Ci','Cl','Clo','Crea',\"D\",'De','Di','Dic','Do','Drop','E','Et','Eto','F','Fr','G','Ge','Gen','Gl','Gli','H','Hy','Hyd','Hyo','Hyos','Hyosc','Hyosci','Hyoscine','I','L','La','Le','Lev','Levo','M','Me','Met','Meth','Methy','Meto','N','No','Nor','O','Oi','Oint','P','Pa','Pe','Ph','Phe','Phen','Po','Pr','Pre','R','Ra','S','Sa','Sal','Su','Sul','Sulp','Sulph','Syp','T','Tab','Tab-','Tab- B-','Tab. C','Tab. Ci','Tab. Levo','Tab. Methyl','Th','Ti','Tran','V','Vag','Vag.','Vag. Pessary','ViT','ViT.']\n",
    "df_filtered = df[~df.isin(strings_to_delete).any(axis=1)]\n",
    "\n",
    "# Save the cleaned DataFrame to a new CSV file (replace 'output_file.csv' with your desired output file path)\n",
    "df_filtered.to_csv('cleaned_file.csv', index=False)"
   ]
  },
  {
   "cell_type": "code",
   "execution_count": 12,
   "id": "de52e168-f094-4ecd-82b7-9c9a6e332511",
   "metadata": {},
   "outputs": [
    {
     "name": "stderr",
     "output_type": "stream",
     "text": [
      "C:\\Users\\vidhi\\AppData\\Local\\Temp\\ipykernel_1160\\2267914324.py:1: DtypeWarning: Columns (7,8,9) have mixed types. Specify dtype option on import or set low_memory=False.\n",
      "  df = pd.read_csv(\"medicine-filtered.csv\")\n"
     ]
    },
    {
     "data": {
      "text/plain": [
       "2229888"
      ]
     },
     "execution_count": 12,
     "metadata": {},
     "output_type": "execute_result"
    }
   ],
   "source": [
    "df = pd.read_csv(\"medicine-filtered.csv\")\n",
    "len(df)"
   ]
  },
  {
   "cell_type": "code",
   "execution_count": 13,
   "id": "d031660c-8180-4cb5-8aad-67228ba2fd7f",
   "metadata": {},
   "outputs": [
    {
     "name": "stderr",
     "output_type": "stream",
     "text": [
      "C:\\Users\\vidhi\\AppData\\Local\\Temp\\ipykernel_1160\\4225242941.py:1: DtypeWarning: Columns (13,15,17,18,19,20,21,22,23,24,26,28,49,50,51,52,53,54,55,56) have mixed types. Specify dtype option on import or set low_memory=False.\n",
      "  df = pd.read_csv(\"sample-data.csv\")\n"
     ]
    }
   ],
   "source": [
    "df = pd.read_csv(\"sample-data.csv\")\n",
    "selected_columns = df[['medongoid', 'diagnosis','drug_1', 'drug_2', 'drug_3', 'drug_4', 'drug_5', 'drug_6', 'drug_7', 'drug_8', 'drug_9', 'drug_10', 'drug_11', 'drug_12', 'drug_13', 'drug_14']]\n",
    "\n",
    "selected_columns.to_csv('medicine+diagnosis.csv', index=False)"
   ]
  },
  {
   "cell_type": "code",
   "execution_count": 1,
   "id": "75da40c1-4dd6-4eb5-a3dd-53fc6b8ee53e",
   "metadata": {},
   "outputs": [
    {
     "name": "stderr",
     "output_type": "stream",
     "text": [
      "C:\\Users\\vidhi\\AppData\\Local\\Temp\\ipykernel_15352\\2498716709.py:2: DtypeWarning: Columns (9,10) have mixed types. Specify dtype option on import or set low_memory=False.\n",
      "  df = pd.read_csv(\"medicine+diagnosis.csv\")\n"
     ]
    },
    {
     "data": {
      "text/plain": [
       "2230551"
      ]
     },
     "execution_count": 1,
     "metadata": {},
     "output_type": "execute_result"
    }
   ],
   "source": [
    "import pandas as pd\n",
    "df = pd.read_csv(\"medicine+diagnosis.csv\")\n",
    "len(df)"
   ]
  },
  {
   "cell_type": "code",
   "execution_count": null,
   "id": "03321663-3f39-40e2-aed3-496fd6de9e71",
   "metadata": {},
   "outputs": [],
   "source": [
    "df_cleaned = df[df.apply(lambda row: row.astype(str).str.contains('##').any(), axis=1)]\n",
    "len(df_cleaned)"
   ]
  },
  {
   "cell_type": "code",
   "execution_count": 24,
   "id": "a2c2710d-6d4b-4493-936d-5da427e43bf7",
   "metadata": {},
   "outputs": [],
   "source": [
    "df_cleaned = df[(df != 'Unknown').all(axis=1)]"
   ]
  },
  {
   "cell_type": "code",
   "execution_count": 22,
   "id": "a7696b36-efbc-4124-ae66-a111f8c9c2be",
   "metadata": {},
   "outputs": [],
   "source": [
    "df_cleaned = df_cleaned[~df_cleaned['diagnosis'].apply(lambda x: 'unknown' in x)]"
   ]
  },
  {
   "cell_type": "code",
   "execution_count": 25,
   "id": "e0276d07-a7bd-4dea-b5db-183e478e9b98",
   "metadata": {},
   "outputs": [
    {
     "data": {
      "text/plain": [
       "1898716"
      ]
     },
     "execution_count": 25,
     "metadata": {},
     "output_type": "execute_result"
    }
   ],
   "source": [
    "len(df_cleaned)"
   ]
  },
  {
   "cell_type": "code",
   "execution_count": 16,
   "id": "b7530007-dee8-4c35-a555-97367ffa1916",
   "metadata": {},
   "outputs": [],
   "source": [
    "df_cleaned = df[~df.apply(lambda row: row.astype(str).str.contains('##').any(), axis=1)]\n",
    "\n",
    "# Save the cleaned DataFrame back to a CSV file\n",
    "df_cleaned.to_csv('medicine+diagnosis-filtered.csv', index=False)\n"
   ]
  },
  {
   "cell_type": "code",
   "execution_count": 19,
   "id": "208e5dc3-5dd1-4c6a-ba8b-33abb326a3c1",
   "metadata": {},
   "outputs": [
    {
     "name": "stderr",
     "output_type": "stream",
     "text": [
      "C:\\Users\\vidhi\\AppData\\Local\\Temp\\ipykernel_1160\\4045692213.py:1: DtypeWarning: Columns (10) have mixed types. Specify dtype option on import or set low_memory=False.\n",
      "  df = pd.read_csv(\"medicine+diagnosis-filtered.csv\")\n"
     ]
    },
    {
     "data": {
      "text/plain": [
       "2227753"
      ]
     },
     "execution_count": 19,
     "metadata": {},
     "output_type": "execute_result"
    }
   ],
   "source": [
    "df = pd.read_csv(\"medicine+diagnosis-filtered.csv\")\n",
    "len(df)"
   ]
  },
  {
   "cell_type": "code",
   "execution_count": 3,
   "id": "dcbdcbf2-b26d-415e-ae06-c8e81ebe3ae7",
   "metadata": {},
   "outputs": [
    {
     "name": "stderr",
     "output_type": "stream",
     "text": [
      "C:\\Users\\vidhi\\AppData\\Local\\Temp\\ipykernel_17728\\2973739497.py:1: DtypeWarning: Columns (13,15,17,18,19,20,21,22,23,24,26,28,49,50,51,52,53,54,55,56) have mixed types. Specify dtype option on import or set low_memory=False.\n",
      "  df = pd.read_csv(\"updated_data.csv\")\n"
     ]
    },
    {
     "data": {
      "text/plain": [
       "2230551"
      ]
     },
     "execution_count": 3,
     "metadata": {},
     "output_type": "execute_result"
    }
   ],
   "source": [
    "df = pd.read_csv(\"updated_data.csv\")\n",
    "len(df)"
   ]
  },
  {
   "cell_type": "code",
   "execution_count": 4,
   "id": "f934a90c-3e20-4c9c-bf05-f70758a6c402",
   "metadata": {},
   "outputs": [
    {
     "data": {
      "text/plain": [
       "1767072"
      ]
     },
     "execution_count": 4,
     "metadata": {},
     "output_type": "execute_result"
    }
   ],
   "source": [
    "df_unique = df[((df['diagnosis'].str.contains('unknown', case=False, na=False)) | (df['drug_1'].str.contains('Unknown', case=False, na=False)))]\n",
    "num = len(df) - len(df_unique)\n",
    "num"
   ]
  },
  {
   "cell_type": "code",
   "execution_count": null,
   "id": "b39ad18d-9efc-48b1-b1f2-7a2d406391ad",
   "metadata": {},
   "outputs": [],
   "source": []
  }
 ],
 "metadata": {
  "kernelspec": {
   "display_name": "Python 3 (ipykernel)",
   "language": "python",
   "name": "python3"
  },
  "language_info": {
   "codemirror_mode": {
    "name": "ipython",
    "version": 3
   },
   "file_extension": ".py",
   "mimetype": "text/x-python",
   "name": "python",
   "nbconvert_exporter": "python",
   "pygments_lexer": "ipython3",
   "version": "3.12.0"
  }
 },
 "nbformat": 4,
 "nbformat_minor": 5
}
